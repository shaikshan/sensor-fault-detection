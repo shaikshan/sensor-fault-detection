{
 "cells": [
  {
   "cell_type": "code",
   "execution_count": 1,
   "metadata": {},
   "outputs": [
    {
     "name": "stdout",
     "output_type": "stream",
     "text": [
      "Hello world\n"
     ]
    }
   ],
   "source": [
    "print(\"Hello world\")"
   ]
  },
  {
   "cell_type": "code",
   "execution_count": 2,
   "metadata": {},
   "outputs": [],
   "source": [
    "from scipy.stats import ks_2samp\n",
    "import pandas as pd\n",
    "import numpy as np\n",
    "from sensor.exception import SensorException\n",
    "from sensor.logger import logging\n",
    "import os,sys"
   ]
  },
  {
   "cell_type": "code",
   "execution_count": 7,
   "metadata": {},
   "outputs": [],
   "source": [
    "train_file_path = r\"D:\\Industry_ready_project\\sensor-fault-detection\\artifact\\10_31_2022-18_15_14\\data_ingestion\\ingested\\train.csv\""
   ]
  },
  {
   "cell_type": "code",
   "execution_count": 12,
   "metadata": {},
   "outputs": [],
   "source": [
    "def get_data_drift_report(base_df,current_df,threshold=0.5)->bool:\n",
    "    try:\n",
    "        status = True\n",
    "        report = {}\n",
    "        for column in base_df.columns:\n",
    "            d1 = base_df[column]\n",
    "            d2 = current_df[column]\n",
    "            is_same_dist = ks_2samp(d1,d2)\n",
    "            if threshold<=is_same_dist.pvalue:\n",
    "                is_found = False\n",
    "            else:\n",
    "                is_found = True\n",
    "            True_count = 0\n",
    "            False_count = 0\n",
    "            if is_found is True:\n",
    "                True_count +=1\n",
    "            else:\n",
    "                False_count +=1\n",
    "            if True_count >= len(base_df.columns)//2:\n",
    "                status = False\n",
    "            report.update({column:{\n",
    "            \"p_value\":float(is_same_dist.pvalue),\n",
    "            \"drift_status\":is_found,\n",
    "            }})\n",
    "        return status\n",
    "    except Exception as e:\n",
    "        raise SensorException(e,sys)"
   ]
  },
  {
   "cell_type": "code",
   "execution_count": 13,
   "metadata": {},
   "outputs": [],
   "source": [
    "test_file_path = r\"D:\\Industry_ready_project\\sensor-fault-detection\\artifact\\10_31_2022-18_15_14\\data_ingestion\\ingested\\test.csv\""
   ]
  },
  {
   "cell_type": "code",
   "execution_count": 14,
   "metadata": {},
   "outputs": [],
   "source": [
    "test_df = pd.read_csv(test_file_path)\n",
    "train_df = pd.read_csv(train_file_path)"
   ]
  },
  {
   "cell_type": "code",
   "execution_count": 15,
   "metadata": {},
   "outputs": [
    {
     "data": {
      "text/plain": [
       "True"
      ]
     },
     "execution_count": 15,
     "metadata": {},
     "output_type": "execute_result"
    }
   ],
   "source": [
    "get_data_drift_report(base_df=train_df,current_df=test_df)"
   ]
  },
  {
   "cell_type": "code",
   "execution_count": 1,
   "metadata": {},
   "outputs": [],
   "source": [
    "from sensor.ml.model.estimator import TargetValueMapping"
   ]
  },
  {
   "cell_type": "code",
   "execution_count": 2,
   "metadata": {},
   "outputs": [],
   "source": [
    "mapping = TargetValueMapping()"
   ]
  },
  {
   "cell_type": "code",
   "execution_count": 3,
   "metadata": {},
   "outputs": [
    {
     "data": {
      "text/plain": [
       "{0: 'neg', 1: 'pos'}"
      ]
     },
     "execution_count": 3,
     "metadata": {},
     "output_type": "execute_result"
    }
   ],
   "source": [
    "mapping.reverse_mapping()"
   ]
  },
  {
   "cell_type": "code",
   "execution_count": null,
   "metadata": {},
   "outputs": [],
   "source": []
  }
 ],
 "metadata": {
  "kernelspec": {
   "display_name": "Python 3.8.0 (conda)",
   "language": "python",
   "name": "python3"
  },
  "language_info": {
   "codemirror_mode": {
    "name": "ipython",
    "version": 3
   },
   "file_extension": ".py",
   "mimetype": "text/x-python",
   "name": "python",
   "nbconvert_exporter": "python",
   "pygments_lexer": "ipython3",
   "version": "3.8.0"
  },
  "orig_nbformat": 4,
  "vscode": {
   "interpreter": {
    "hash": "516237f2e468ee3ed5468f8ba845a489ae85472204410d3a94a2f159a245a957"
   }
  }
 },
 "nbformat": 4,
 "nbformat_minor": 2
}
